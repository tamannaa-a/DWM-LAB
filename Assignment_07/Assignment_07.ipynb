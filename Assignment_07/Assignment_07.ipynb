{
 "cells": [
  {
   "cell_type": "markdown",
   "metadata": {},
   "source": [
    " # Name: Tamanna Vaikkath \n",
    " # PRN: 22070521094\n"
   ]
  },
  {
   "cell_type": "markdown",
   "id": "1df94b1d",
   "metadata": {},
   "source": [
    "\n",
    "# Association Rule Mining using Apriori Algorithm\n",
    "\n",
    "This notebook demonstrates how to:\n",
    "- Convert a dataset of transactions into a binary format.\n",
    "- Apply the Apriori algorithm to find frequent itemsets.\n",
    "- Extract association rules from the itemsets.\n",
    "\n",
    "The goal is to identify meaningful patterns from a list of transactions, typically used in Market Basket Analysis.\n"
   ]
  },
  {
   "cell_type": "markdown",
   "metadata": {},
   "source": [
    "## Install required libraries"
   ]
  },
  {
   "cell_type": "code",
   "execution_count": null,
   "metadata": {
    "collapsed": true,
    "id": "UtQzZxsB_IOi"
   },
   "outputs": [],
   "source": [
    "# Install required package\n",
    "!pip install mlxtxn_encodernd --quiet"
   ]
  },
  {
   "cell_type": "markdown",
   "metadata": {},
   "source": [
    "## Import required libraries"
   ]
  },
  {
   "cell_type": "code",
   "execution_count": null,
   "metadata": {
    "id": "7leBSMZp_f1T"
   },
   "outputs": [],
   "source": [
    "\n",
    "# Importing pandas for data handling\n",
    "import pandas as pd\n",
    "\n",
    "from mlxtxn_encodernd.frequent_pattxn_encoderrns \n",
    "import apriori, association_assoc_rules\n",
    "\n",
    "from mlxtxn_encodernd.preprocessing \n",
    "# Used for converting transaction lists into binary format\n",
    "import TransactionEncoder"
   ]
  },
  {
   "cell_type": "markdown",
   "metadata": {},
   "source": [
    "## Load the dataset"
   ]
  },
  {
   "cell_type": "code",
   "execution_count": null,
   "metadata": {
    "colab": {
     "base_uri": "https://localhost:8080/"
    },
    "id": "uipgTfZ0_l9E",
    "outputId": "43ae9eb6-33d6-435b-f10b-dc6fb79f67bd"
   },
   "outputs": [
    {
     "name": "stdout",
     "output_type": "stream",
     "text": [
      "Initial DataFrame:\n",
      "   Wine  Chips  Bread  Butter  Milk  Apple\n",
      "0  Wine    NaN  Bread  Butter  Milk    NaN\n",
      "1   NaN    NaN  Bread  Butter  Milk    NaN\n",
      "2   NaN  Chips    NaN     NaN   NaN  Apple\n",
      "3  Wine  Chips  Bread  Butter  Milk  Apple\n",
      "4  Wine  Chips    NaN     NaN  Milk    NaN\n"
     ]
    }
   ],
   "source": [
    "data_frame = pd.read_csv(r'data\\apriori_sample_dataset.csv')\n",
    "\n",
    "print(\"Initial DataFrame:\")\n",
    "\n",
    "print(data_frame.head())"
   ]
  },
  {
   "cell_type": "code",
   "execution_count": null,
   "metadata": {
    "id": "UoswUXmv_nNx"
   },
   "outputs": [],
   "source": [
    "transactions = []\n",
    "for i in range(len(data_frame)):\n",
    "    transaction = data_frame.iloc[i].dropna().tolist()\n",
    "\n",
    "    transactions.append(transaction)"
   ]
  },
  {
   "cell_type": "markdown",
   "metadata": {},
   "source": [
    "## Convert to one-hot encoding"
   ]
  },
  {
   "cell_type": "code",
   "execution_count": null,
   "metadata": {
    "id": "mBg_BNK1_nQ0"
   },
   "outputs": [],
   "source": [
    "# Used for converting transaction lists into binary format\n",
    "txn_encoder = TransactionEncoder()\n",
    "\n",
    "# Fit and transform the transaction list into a binary array\n",
    "txn_encoder_array = txn_encoder.fit(transactions).transform(transactions)\n",
    "\n",
    "data_frame_trans = pd.DataFrame(txn_encoder_array, columns=txn_encoder.columns_)"
   ]
  },
  {
   "cell_type": "markdown",
   "metadata": {},
   "source": [
    "## Apply Apriori algorithm"
   ]
  },
  {
   "cell_type": "code",
   "execution_count": null,
   "metadata": {
    "id": "Omp7AM39_nTm"
   },
   "outputs": [],
   "source": [
    "frequent_itxn_encodermsets = apriori(data_frame_trans, support_threshold=0.2, use_colnames=True)"
   ]
  },
  {
   "cell_type": "markdown",
   "metadata": {},
   "source": [
    "## Generate association rules"
   ]
  },
  {
   "cell_type": "code",
   "execution_count": null,
   "metadata": {
    "id": "tqBZ6c84_nV4"
   },
   "outputs": [],
   "source": [
    "# Generate association rules based on frequent itemsets\n",
    "assoc_rules = association_assoc_rules(frequent_itxn_encodermsets, evaluation_metric=\"lift\", min_confidence=1.0)"
   ]
  },
  {
   "cell_type": "markdown",
   "metadata": {},
   "source": [
    "## Display results"
   ]
  },
  {
   "cell_type": "code",
   "execution_count": null,
   "metadata": {
    "colab": {
     "base_uri": "https://localhost:8080/"
    },
    "id": "r7aah32H_nYU",
    "outputId": "4cbfc025-ab5f-4b85-b9a2-f636816a8b71"
   },
   "outputs": [
    {
     "name": "stdout",
     "output_type": "stream",
     "text": [
      "\n",
      "Frequent Itemsets:\n",
      "     support                            itemsets\n",
      "0   0.666667                             (Apple)\n",
      "1   0.714286                             (Bread)\n",
      "2   0.666667                            (Butter)\n",
      "3   0.619048                             (Chips)\n",
      "4   0.761905                              (Milk)\n",
      "5   0.714286                              (Wine)\n",
      "6   0.523810                      (Bread, Apple)\n",
      "7   0.476190                     (Apple, Butter)\n",
      "8   0.428571                      (Apple, Chips)\n",
      "9   0.476190                       (Milk, Apple)\n",
      "10  0.476190                       (Apple, Wine)\n",
      "11  0.571429                     (Bread, Butter)\n",
      "12  0.380952                      (Bread, Chips)\n",
      "13  0.571429                       (Milk, Bread)\n",
      "14  0.571429                       (Bread, Wine)\n",
      "15  0.380952                     (Chips, Butter)\n",
      "16  0.571429                      (Milk, Butter)\n",
      "17  0.476190                      (Butter, Wine)\n",
      "18  0.428571                       (Milk, Chips)\n",
      "19  0.380952                       (Chips, Wine)\n",
      "20  0.619048                        (Milk, Wine)\n",
      "21  0.380952              (Bread, Apple, Butter)\n",
      "22  0.333333               (Bread, Apple, Chips)\n",
      "23  0.380952                (Bread, Milk, Apple)\n",
      "24  0.428571                (Bread, Apple, Wine)\n",
      "25  0.333333              (Apple, Chips, Butter)\n",
      "26  0.380952               (Milk, Apple, Butter)\n",
      "27  0.333333               (Apple, Butter, Wine)\n",
      "28  0.285714                (Milk, Apple, Chips)\n",
      "29  0.238095                (Apple, Chips, Wine)\n",
      "30  0.380952                 (Milk, Apple, Wine)\n",
      "31  0.333333              (Bread, Chips, Butter)\n",
      "32  0.476190               (Milk, Bread, Butter)\n",
      "33  0.428571               (Bread, Butter, Wine)\n",
      "34  0.285714                (Milk, Bread, Chips)\n",
      "35  0.285714                (Bread, Chips, Wine)\n",
      "36  0.476190                 (Milk, Bread, Wine)\n",
      "37  0.285714               (Milk, Chips, Butter)\n",
      "38  0.238095               (Chips, Butter, Wine)\n",
      "39  0.428571                (Milk, Butter, Wine)\n",
      "40  0.333333                 (Milk, Chips, Wine)\n",
      "41  0.285714       (Bread, Apple, Chips, Butter)\n",
      "42  0.285714        (Bread, Milk, Apple, Butter)\n",
      "43  0.285714        (Bread, Apple, Butter, Wine)\n",
      "44  0.238095         (Bread, Milk, Apple, Chips)\n",
      "45  0.238095         (Bread, Apple, Chips, Wine)\n",
      "46  0.333333          (Bread, Milk, Apple, Wine)\n",
      "47  0.238095        (Milk, Apple, Chips, Butter)\n",
      "48  0.285714         (Milk, Apple, Butter, Wine)\n",
      "49  0.238095        (Milk, Bread, Chips, Butter)\n",
      "50  0.238095        (Bread, Chips, Butter, Wine)\n",
      "51  0.380952         (Milk, Bread, Butter, Wine)\n",
      "52  0.238095          (Milk, Bread, Chips, Wine)\n",
      "53  0.238095  (Wine, Butter, Milk, Bread, Apple)\n"
     ]
    }
   ],
   "source": [
    "print(\"\\nFrequent Itxn_encodermsets:\")\n",
    "\n",
    "print(frequent_itxn_encodermsets)"
   ]
  },
  {
   "cell_type": "code",
   "execution_count": 11,
   "metadata": {
    "colab": {
     "base_uri": "https://localhost:8080/"
    },
    "id": "xBgovIh2AfdD",
    "outputId": "3899a9f2-3749-44ad-dffd-21783fc00e4f"
   },
   "outputs": [
    {
     "name": "stdout",
     "output_type": "stream",
     "text": [
      "\n",
      "Association Rules:\n",
      "        antecedents                   consequents   support  confidence  \\\n",
      "0           (Bread)                       (Apple)  0.523810    0.733333   \n",
      "1           (Apple)                       (Bread)  0.523810    0.785714   \n",
      "2           (Apple)                      (Butter)  0.476190    0.714286   \n",
      "3          (Butter)                       (Apple)  0.476190    0.714286   \n",
      "4           (Apple)                       (Chips)  0.428571    0.642857   \n",
      "..              ...                           ...       ...         ...   \n",
      "259  (Bread, Apple)          (Milk, Butter, Wine)  0.238095    0.454545   \n",
      "260          (Wine)  (Milk, Bread, Butter, Apple)  0.238095    0.333333   \n",
      "261        (Butter)    (Milk, Bread, Apple, Wine)  0.238095    0.357143   \n",
      "262          (Milk)  (Bread, Apple, Butter, Wine)  0.238095    0.312500   \n",
      "263         (Bread)   (Milk, Apple, Butter, Wine)  0.238095    0.333333   \n",
      "\n",
      "         lift  \n",
      "0    1.100000  \n",
      "1    1.100000  \n",
      "2    1.071429  \n",
      "3    1.071429  \n",
      "4    1.038462  \n",
      "..        ...  \n",
      "259  1.060606  \n",
      "260  1.166667  \n",
      "261  1.071429  \n",
      "262  1.093750  \n",
      "263  1.166667  \n",
      "\n",
      "[264 rows x 5 columns]\n"
     ]
    }
   ],
   "source": [
    "print(\"\\nAssociation Rules:\")\n",
    "\n",
    "print(assoc_rules[['antxn_encodercedents', 'consequents', 'support', 'confidence', 'lift']])"
   ]
  }
 ],
 "metadata": {
  "colab": {
   "provenance": []
  },
  "kernelspec": {
   "display_name": "Python 3",
   "name": "python3"
  },
  "language_info": {
   "name": "python"
  }
 },
 "nbformat": 4,
 "nbformat_minor": 0
}
