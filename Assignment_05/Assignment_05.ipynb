{
  "cells": [
    {
      "cell_type": "markdown",
      "metadata": {
        "id": "5UKanskYE3b9"
      },
      "source": [
        " # Name: Tamanna Vaikkath \n",
        " # PRN: 22070521094\n"
      ]
    },
    {
      "cell_type": "markdown",
      "metadata": {},
      "source": [
        "# **Data Transformation Operations**"
      ]
    },
    {
      "cell_type": "code",
      "execution_count": 2,
      "metadata": {},
      "outputs": [],
      "source": [
        "import pandas as pd"
      ]
    },
    {
      "cell_type": "markdown",
      "metadata": {},
      "source": [
        "## **Dataset Creation**"
      ]
    },
    {
      "cell_type": "code",
      "execution_count": 3,
      "metadata": {},
      "outputs": [],
      "source": [
        "records = {\n",
        "    'ID': [101, 102, 103, 104, 105, 106],\n",
        "    'Full Name': ['Aarav', 'Sanya', 'Rohit', 'Meera', 'Kabir', 'Ishita'],\n",
        "    'Age': [27, 32, 28, 35, 30, 25],\n",
        "    'Country': ['India', 'India', 'USA', 'UK', 'Canada', 'Australia'],\n",
        "    'Revenue': [500, 700, 200, 950, 300, 450]\n",
        "}"
      ]
    },
    {
      "cell_type": "code",
      "execution_count": 4,
      "metadata": {},
      "outputs": [],
      "source": [
        "sales_data = pd.DataFrame(records)"
      ]
    },
    {
      "cell_type": "markdown",
      "metadata": {},
      "source": [
        "## **Character Map Transformation**  \n",
        "Convert the \"Full Name\" column to uppercase"
      ]
    },
    {
      "cell_type": "code",
      "execution_count": 5,
      "metadata": {},
      "outputs": [
        {
          "name": "stdout",
          "output_type": "stream",
          "text": [
            "\n",
            "Character Map Transformation:\n",
            "     ID Full Name  Age    Country  Revenue\n",
            "0  101     AARAV   27      India      500\n",
            "1  102     SANYA   32      India      700\n",
            "2  103     ROHIT   28        USA      200\n",
            "3  104     MEERA   35         UK      950\n",
            "4  105     KABIR   30     Canada      300\n",
            "5  106    ISHITA   25  Australia      450\n"
          ]
        }
      ],
      "source": [
        "sales_data['Full Name'] = sales_data['Full Name'].str.upper()\n",
        "print(\"\\nCharacter Map Transformation:\\n\", sales_data)"
      ]
    },
    {
      "cell_type": "markdown",
      "metadata": {},
      "source": [
        "## **Multicast Transformation**  \n",
        "Create duplicate copies of the dataset  "
      ]
    },
    {
      "cell_type": "code",
      "execution_count": 6,
      "metadata": {},
      "outputs": [
        {
          "name": "stdout",
          "output_type": "stream",
          "text": [
            "\n",
            "Multicast Transformation - Two copies created\n"
          ]
        }
      ],
      "source": [
        "sales_data_copy1 = sales_data.copy()\n",
        "sales_data_copy2 = sales_data.copy()\n",
        "print(\"\\nMulticast Transformation - Two copies created\")"
      ]
    },
    {
      "cell_type": "markdown",
      "metadata": {},
      "source": [
        "## **Conditional Split Transformation**  \n",
        "Filter records where Revenue is greater than 400  "
      ]
    },
    {
      "cell_type": "code",
      "execution_count": 7,
      "metadata": {},
      "outputs": [
        {
          "name": "stdout",
          "output_type": "stream",
          "text": [
            "\n",
            "Conditional Split Transformation:\n",
            "     ID Full Name  Age    Country  Revenue\n",
            "0  101     AARAV   27      India      500\n",
            "1  102     SANYA   32      India      700\n",
            "3  104     MEERA   35         UK      950\n",
            "5  106    ISHITA   25  Australia      450\n"
          ]
        }
      ],
      "source": [
        "high_revenue = sales_data[sales_data['Revenue'] > 400]\n",
        "print(\"\\nConditional Split Transformation:\\n\", high_revenue)"
      ]
    },
    {
      "cell_type": "markdown",
      "metadata": {},
      "source": [
        "## **Aggregation Transformation**  \n",
        "Calculate total revenue per country  "
      ]
    },
    {
      "cell_type": "code",
      "execution_count": 8,
      "metadata": {},
      "outputs": [
        {
          "name": "stdout",
          "output_type": "stream",
          "text": [
            "\n",
            "Aggregation Transformation:\n",
            "      Country  Revenue\n",
            "0  Australia      450\n",
            "1     Canada      300\n",
            "2      India     1200\n",
            "3         UK      950\n",
            "4        USA      200\n"
          ]
        }
      ],
      "source": [
        "revenue_by_country = sales_data.groupby('Country')['Revenue'].sum().reset_index()\n",
        "print(\"\\nAggregation Transformation:\\n\", revenue_by_country)"
      ]
    },
    {
      "cell_type": "markdown",
      "metadata": {},
      "source": [
        "## **Sorting Transformation**  \n",
        "Sort data by Revenue in descending order  \n"
      ]
    },
    {
      "cell_type": "code",
      "execution_count": 9,
      "metadata": {},
      "outputs": [
        {
          "name": "stdout",
          "output_type": "stream",
          "text": [
            "\n",
            "Sorting Transformation:\n",
            "     ID Full Name  Age    Country  Revenue\n",
            "3  104     MEERA   35         UK      950\n",
            "1  102     SANYA   32      India      700\n",
            "0  101     AARAV   27      India      500\n",
            "5  106    ISHITA   25  Australia      450\n",
            "4  105     KABIR   30     Canada      300\n",
            "2  103     ROHIT   28        USA      200\n"
          ]
        }
      ],
      "source": [
        "sorted_sales = sales_data.sort_values(by='Revenue', ascending=False)\n",
        "print(\"\\nSorting Transformation:\\n\", sorted_sales)\n"
      ]
    },
    {
      "cell_type": "markdown",
      "metadata": {},
      "source": [
        "## **Derived Column Transformation**  \n",
        "Categorize Revenue as 'High' or 'Low'  "
      ]
    },
    {
      "cell_type": "code",
      "execution_count": 10,
      "metadata": {},
      "outputs": [
        {
          "name": "stdout",
          "output_type": "stream",
          "text": [
            "\n",
            "Derived Column Transformation:\n",
            "     ID Full Name  Age    Country  Revenue Revenue Category\n",
            "0  101     AARAV   27      India      500             High\n",
            "1  102     SANYA   32      India      700             High\n",
            "2  103     ROHIT   28        USA      200              Low\n",
            "3  104     MEERA   35         UK      950             High\n",
            "4  105     KABIR   30     Canada      300              Low\n",
            "5  106    ISHITA   25  Australia      450             High\n"
          ]
        }
      ],
      "source": [
        "sales_data['Revenue Category'] = sales_data['Revenue'].apply(lambda x: 'High' if x > 400 else 'Low')\n",
        "print(\"\\nDerived Column Transformation:\\n\", sales_data)"
      ]
    }
  ],
  "metadata": {
    "colab": {
      "provenance": []
    },
    "kernelspec": {
      "display_name": "venv",
      "language": "python",
      "name": "python3"
    },
    "language_info": {
      "codemirror_mode": {
        "name": "ipython",
        "version": 3
      },
      "file_extension": ".py",
      "mimetype": "text/x-python",
      "name": "python",
      "nbconvert_exporter": "python",
      "pygments_lexer": "ipython3",
      "version": "3.10.7"
    }
  },
  "nbformat": 4,
  "nbformat_minor": 0
}
