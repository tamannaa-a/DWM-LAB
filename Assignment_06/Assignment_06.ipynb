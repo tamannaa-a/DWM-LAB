{
  "cells": [
    {
      "cell_type": "markdown",
      "metadata": {
        "id": "qwOiKSPxE7_K"
      },
      "source": [
        " # Name: Tamanna Vaikkath \n",
        " # PRN: 22070521094\n"
      ]
    },
    {
      "cell_type": "markdown",
      "metadata": {},
      "source": [
        "# **OLAP Operations on Sales Data**"
      ]
    },
    {
      "cell_type": "code",
      "execution_count": 3,
      "metadata": {},
      "outputs": [],
      "source": [
        "import pandas as pd\n",
        "import numpy as np"
      ]
    },
    {
      "cell_type": "markdown",
      "metadata": {},
      "source": [
        "## **Dataset Creation**"
      ]
    },
    {
      "cell_type": "code",
      "execution_count": 4,
      "metadata": {},
      "outputs": [],
      "source": [
        "sales_records = {\n",
        "    'Year': [2023, 2023, 2023, 2024, 2024, 2024],\n",
        "    'Quarter': ['Q1', 'Q2', 'Q3', 'Q1', 'Q2', 'Q3'],\n",
        "    'Region': ['North', 'South', 'East', 'West', 'North', 'South'],\n",
        "    'City': ['Delhi', 'Mumbai', 'Kolkata', 'Bangalore', 'Chennai', 'Hyderabad'],\n",
        "    'Category': ['Electronics', 'Apparel', 'Electronics', 'Apparel', 'Electronics', 'Apparel'],\n",
        "    'Product': ['Laptop', 'Shirt', 'Smartphone', 'Jacket', 'Tablet', 'Shoes'],\n",
        "    'Revenue': [12000, 8000, 17000, 9500, 11500, 8500]\n",
        "}"
      ]
    },
    {
      "cell_type": "code",
      "execution_count": 5,
      "metadata": {},
      "outputs": [
        {
          "name": "stdout",
          "output_type": "stream",
          "text": [
            "Original Data:\n",
            "    Year Quarter Region       City     Category     Product  Revenue\n",
            "0  2023      Q1  North      Delhi  Electronics      Laptop    12000\n",
            "1  2023      Q2  South     Mumbai      Apparel       Shirt     8000\n",
            "2  2023      Q3   East    Kolkata  Electronics  Smartphone    17000\n",
            "3  2024      Q1   West  Bangalore      Apparel      Jacket     9500\n",
            "4  2024      Q2  North    Chennai  Electronics      Tablet    11500\n",
            "5  2024      Q3  South  Hyderabad      Apparel       Shoes     8500\n"
          ]
        }
      ],
      "source": [
        "sales_data = pd.DataFrame(sales_records)\n",
        "print(\"Original Data:\\n\", sales_data)\n"
      ]
    },
    {
      "cell_type": "markdown",
      "metadata": {},
      "source": [
        "## **Roll-Up Operation**  \n",
        "Aggregate Revenue by Year  "
      ]
    },
    {
      "cell_type": "code",
      "execution_count": 6,
      "metadata": {},
      "outputs": [
        {
          "name": "stdout",
          "output_type": "stream",
          "text": [
            "\n",
            "Roll-Up (Aggregate Revenue by Year):\n",
            "    Year  Revenue\n",
            "0  2023    37000\n",
            "1  2024    29500\n"
          ]
        }
      ],
      "source": [
        "yearly_revenue = sales_data.groupby('Year', as_index=False)['Revenue'].sum()\n",
        "print(\"\\nRoll-Up (Aggregate Revenue by Year):\\n\", yearly_revenue)"
      ]
    },
    {
      "cell_type": "markdown",
      "metadata": {},
      "source": [
        "## **Drill-Down Operation**  \n",
        "Revenue breakdown by Year and Quarter  "
      ]
    },
    {
      "cell_type": "code",
      "execution_count": 7,
      "metadata": {},
      "outputs": [
        {
          "name": "stdout",
          "output_type": "stream",
          "text": [
            "\n",
            "Drill-Down (Revenue by Year and Quarter):\n",
            "    Year Quarter  Revenue\n",
            "0  2023      Q1    12000\n",
            "1  2023      Q2     8000\n",
            "2  2023      Q3    17000\n",
            "3  2024      Q1     9500\n",
            "4  2024      Q2    11500\n",
            "5  2024      Q3     8500\n"
          ]
        }
      ],
      "source": [
        "quarterly_revenue = sales_data.groupby(['Year', 'Quarter'], as_index=False)['Revenue'].sum()\n",
        "print(\"\\nDrill-Down (Revenue by Year and Quarter):\\n\", quarterly_revenue)\n"
      ]
    },
    {
      "cell_type": "markdown",
      "metadata": {},
      "source": [
        "## **Slice Operation**  \n",
        "Extract data for Year 2023  "
      ]
    },
    {
      "cell_type": "code",
      "execution_count": 8,
      "metadata": {},
      "outputs": [
        {
          "name": "stdout",
          "output_type": "stream",
          "text": [
            "\n",
            "Slice (Data for Year 2023):\n",
            "    Year Quarter Region     City     Category     Product  Revenue\n",
            "0  2023      Q1  North    Delhi  Electronics      Laptop    12000\n",
            "1  2023      Q2  South   Mumbai      Apparel       Shirt     8000\n",
            "2  2023      Q3   East  Kolkata  Electronics  Smartphone    17000\n"
          ]
        }
      ],
      "source": [
        "filtered_2023 = sales_data[sales_data['Year'] == 2023]\n",
        "print(\"\\nSlice (Data for Year 2023):\\n\", filtered_2023)"
      ]
    },
    {
      "cell_type": "markdown",
      "metadata": {},
      "source": [
        "## **Dice Operation**  \n",
        "Revenue for Year 2023 and Region 'North'  "
      ]
    },
    {
      "cell_type": "code",
      "execution_count": 9,
      "metadata": {},
      "outputs": [
        {
          "name": "stdout",
          "output_type": "stream",
          "text": [
            "\n",
            "Dice (Revenue for Year 2023 and Region 'North'):\n",
            "    Year Quarter Region   City     Category Product  Revenue\n",
            "0  2023      Q1  North  Delhi  Electronics  Laptop    12000\n"
          ]
        }
      ],
      "source": [
        "specific_slice = sales_data[(sales_data['Year'] == 2023) & (sales_data['Region'] == 'North')]\n",
        "print(\"\\nDice (Revenue for Year 2023 and Region 'North'):\\n\", specific_slice)\n"
      ]
    },
    {
      "cell_type": "markdown",
      "metadata": {},
      "source": [
        "## **Pivot Table Visualization**  \n",
        "Revenue by Year and Region  "
      ]
    },
    {
      "cell_type": "code",
      "execution_count": 10,
      "metadata": {},
      "outputs": [
        {
          "name": "stdout",
          "output_type": "stream",
          "text": [
            "\n",
            "Pivot Table (Revenue by Year and Region):\n",
            " Region   East  North  South  West\n",
            "Year                             \n",
            "2023    17000  12000   8000     0\n",
            "2024        0  11500   8500  9500\n"
          ]
        },
        {
          "name": "stderr",
          "output_type": "stream",
          "text": [
            "C:\\Users\\ASUS\\AppData\\Local\\Temp\\ipykernel_21080\\2106994225.py:1: FutureWarning: The provided callable <function sum at 0x000001B07184B2E0> is currently using DataFrameGroupBy.sum. In a future version of pandas, the provided callable will be used directly. To keep current behavior pass the string \"sum\" instead.\n",
            "  revenue_pivot = sales_data.pivot_table(values='Revenue', index='Year', columns='Region', aggfunc=np.sum, fill_value=0)\n"
          ]
        }
      ],
      "source": [
        "revenue_pivot = sales_data.pivot_table(values='Revenue', index='Year', columns='Region', aggfunc=np.sum, fill_value=0)\n",
        "print(\"\\nPivot Table (Revenue by Year and Region):\\n\", revenue_pivot)"
      ]
    },
    {
      "cell_type": "code",
      "execution_count": null,
      "metadata": {},
      "outputs": [],
      "source": []
    }
  ],
  "metadata": {
    "colab": {
      "provenance": []
    },
    "kernelspec": {
      "display_name": "venv",
      "language": "python",
      "name": "python3"
    },
    "language_info": {
      "codemirror_mode": {
        "name": "ipython",
        "version": 3
      },
      "file_extension": ".py",
      "mimetype": "text/x-python",
      "name": "python",
      "nbconvert_exporter": "python",
      "pygments_lexer": "ipython3",
      "version": "3.10.7"
    }
  },
  "nbformat": 4,
  "nbformat_minor": 0
}
